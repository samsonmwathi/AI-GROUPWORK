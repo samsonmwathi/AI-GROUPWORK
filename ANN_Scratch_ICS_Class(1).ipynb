{
  "nbformat": 4,
  "nbformat_minor": 0,
  "metadata": {
    "colab": {
      "name": "ANN_Scratch_ICS_Class.ipynb",
      "provenance": []
    },
    "kernelspec": {
      "name": "python3",
      "display_name": "Python 3"
    },
    "language_info": {
      "name": "python"
    }
  },
  "cells": [
    {
      "cell_type": "code",
      "metadata": {
        "id": "1G1n83yzj4xC"
      },
      "source": [
        "import pandas as pd  #pandas is a library used to manipulate data in a tabular setup \n",
        "import numpy as np #numpy is a mathematical python lib used for operating on matrices and arrays while providing extensive functions to work on said arrays and matrices."
      ],
      "execution_count": null,
      "outputs": []
    },
    {
      "cell_type": "code",
      "metadata": {
        "id": "p02bQfWckSWf"
      },
      "source": [
        "from numpy import array\n",
        "from sklearn.preprocessing import Normalizer  #Skitlearn is a machine learning lib used for supervised and unsupervised learning\n",
        "from keras.activations import sigmoid #Keras is a deeplearning library that powers machine learning projects\n",
        "from keras.losses import mse\n",
        "from numpy.random import uniform"
      ],
      "execution_count": null,
      "outputs": []
    },
    {
      "cell_type": "markdown",
      "metadata": {
        "id": "F7ttDmY80BBC"
      },
      "source": [
        "Hyperparameters"
      ]
    },
    {
      "cell_type": "code",
      "metadata": {
        "id": "1M6LtMrQ0DVQ"
      },
      "source": [
        "batch_size=2"
      ],
      "execution_count": null,
      "outputs": []
    },
    {
      "cell_type": "markdown",
      "metadata": {
        "id": "ZkNWpiX-keTQ"
      },
      "source": [
        "Dataset"
      ]
    },
    {
      "cell_type": "code",
      "metadata": {
        "id": "-D5ZfUwmkwih"
      },
      "source": [
        "#We pass in our data in key value pairs...we can also pass ina csv file using the pd.read_csv\n",
        "data={'Day 1':[30,40,50,20,15,60],'Day 2':[40,50,20,15,60,70],\n",
        "      'Day 3':[50,20,15,60,70,50],'Target':[20,15,60,70,50,40]}"
      ],
      "execution_count": null,
      "outputs": []
    },
    {
      "cell_type": "code",
      "metadata": {
        "id": "_xEUKLHxkYyi"
      },
      "source": [
        "#we frame our dataset to enable us to manipulate it \n",
        "dataset=pd.DataFrame(data)"
      ],
      "execution_count": null,
      "outputs": []
    },
    {
      "cell_type": "code",
      "metadata": {
        "colab": {
          "base_uri": "https://localhost:8080/",
          "height": 237
        },
        "id": "-bDPgQjkli48",
        "outputId": "b824450e-c901-4b8f-cb2e-33c087c13aec"
      },
      "source": [
        "dataset"
      ],
      "execution_count": null,
      "outputs": [
        {
          "output_type": "execute_result",
          "data": {
            "text/html": [
              "<div>\n",
              "<style scoped>\n",
              "    .dataframe tbody tr th:only-of-type {\n",
              "        vertical-align: middle;\n",
              "    }\n",
              "\n",
              "    .dataframe tbody tr th {\n",
              "        vertical-align: top;\n",
              "    }\n",
              "\n",
              "    .dataframe thead th {\n",
              "        text-align: right;\n",
              "    }\n",
              "</style>\n",
              "<table border=\"1\" class=\"dataframe\">\n",
              "  <thead>\n",
              "    <tr style=\"text-align: right;\">\n",
              "      <th></th>\n",
              "      <th>Day 1</th>\n",
              "      <th>Day 2</th>\n",
              "      <th>Day 3</th>\n",
              "      <th>Target</th>\n",
              "    </tr>\n",
              "  </thead>\n",
              "  <tbody>\n",
              "    <tr>\n",
              "      <th>0</th>\n",
              "      <td>30</td>\n",
              "      <td>40</td>\n",
              "      <td>50</td>\n",
              "      <td>20</td>\n",
              "    </tr>\n",
              "    <tr>\n",
              "      <th>1</th>\n",
              "      <td>40</td>\n",
              "      <td>50</td>\n",
              "      <td>20</td>\n",
              "      <td>15</td>\n",
              "    </tr>\n",
              "    <tr>\n",
              "      <th>2</th>\n",
              "      <td>50</td>\n",
              "      <td>20</td>\n",
              "      <td>15</td>\n",
              "      <td>60</td>\n",
              "    </tr>\n",
              "    <tr>\n",
              "      <th>3</th>\n",
              "      <td>20</td>\n",
              "      <td>15</td>\n",
              "      <td>60</td>\n",
              "      <td>70</td>\n",
              "    </tr>\n",
              "    <tr>\n",
              "      <th>4</th>\n",
              "      <td>15</td>\n",
              "      <td>60</td>\n",
              "      <td>70</td>\n",
              "      <td>50</td>\n",
              "    </tr>\n",
              "    <tr>\n",
              "      <th>5</th>\n",
              "      <td>60</td>\n",
              "      <td>70</td>\n",
              "      <td>50</td>\n",
              "      <td>40</td>\n",
              "    </tr>\n",
              "  </tbody>\n",
              "</table>\n",
              "</div>"
            ],
            "text/plain": [
              "   Day 1  Day 2  Day 3  Target\n",
              "0     30     40     50      20\n",
              "1     40     50     20      15\n",
              "2     50     20     15      60\n",
              "3     20     15     60      70\n",
              "4     15     60     70      50\n",
              "5     60     70     50      40"
            ]
          },
          "metadata": {},
          "execution_count": 160
        }
      ]
    },
    {
      "cell_type": "code",
      "metadata": {
        "id": "zARgHRFfmvWs"
      },
      "source": [
        "X=dataset.drop('Target',axis=1)# we seperate our inputs from our target by dropping the target column and storing the input in a var\n",
        "y=dataset['Target']# we store our target column in a var "
      ],
      "execution_count": null,
      "outputs": []
    },
    {
      "cell_type": "code",
      "metadata": {
        "colab": {
          "base_uri": "https://localhost:8080/",
          "height": 237
        },
        "id": "ehZYrwZfn_WU",
        "outputId": "93c84380-4df7-43b3-c71f-243dc8ccbbd4"
      },
      "source": [
        "X# We display our inputs"
      ],
      "execution_count": null,
      "outputs": [
        {
          "output_type": "execute_result",
          "data": {
            "text/html": [
              "<div>\n",
              "<style scoped>\n",
              "    .dataframe tbody tr th:only-of-type {\n",
              "        vertical-align: middle;\n",
              "    }\n",
              "\n",
              "    .dataframe tbody tr th {\n",
              "        vertical-align: top;\n",
              "    }\n",
              "\n",
              "    .dataframe thead th {\n",
              "        text-align: right;\n",
              "    }\n",
              "</style>\n",
              "<table border=\"1\" class=\"dataframe\">\n",
              "  <thead>\n",
              "    <tr style=\"text-align: right;\">\n",
              "      <th></th>\n",
              "      <th>Day 1</th>\n",
              "      <th>Day 2</th>\n",
              "      <th>Day 3</th>\n",
              "    </tr>\n",
              "  </thead>\n",
              "  <tbody>\n",
              "    <tr>\n",
              "      <th>0</th>\n",
              "      <td>30</td>\n",
              "      <td>40</td>\n",
              "      <td>50</td>\n",
              "    </tr>\n",
              "    <tr>\n",
              "      <th>1</th>\n",
              "      <td>40</td>\n",
              "      <td>50</td>\n",
              "      <td>20</td>\n",
              "    </tr>\n",
              "    <tr>\n",
              "      <th>2</th>\n",
              "      <td>50</td>\n",
              "      <td>20</td>\n",
              "      <td>15</td>\n",
              "    </tr>\n",
              "    <tr>\n",
              "      <th>3</th>\n",
              "      <td>20</td>\n",
              "      <td>15</td>\n",
              "      <td>60</td>\n",
              "    </tr>\n",
              "    <tr>\n",
              "      <th>4</th>\n",
              "      <td>15</td>\n",
              "      <td>60</td>\n",
              "      <td>70</td>\n",
              "    </tr>\n",
              "    <tr>\n",
              "      <th>5</th>\n",
              "      <td>60</td>\n",
              "      <td>70</td>\n",
              "      <td>50</td>\n",
              "    </tr>\n",
              "  </tbody>\n",
              "</table>\n",
              "</div>"
            ],
            "text/plain": [
              "   Day 1  Day 2  Day 3\n",
              "0     30     40     50\n",
              "1     40     50     20\n",
              "2     50     20     15\n",
              "3     20     15     60\n",
              "4     15     60     70\n",
              "5     60     70     50"
            ]
          },
          "metadata": {},
          "execution_count": 162
        }
      ]
    },
    {
      "cell_type": "markdown",
      "metadata": {
        "id": "uXu3pByctrCf"
      },
      "source": [
        "We now have our inputs but the input values require normalization in order for them to be used in our A.N.N. \n",
        "Thus, we use a normalization function to convert the values into numbers within the range of 1 and -1 as these values"
      ]
    },
    {
      "cell_type": "code",
      "metadata": {
        "id": "Da55LR2inAkx"
      },
      "source": [
        "X_norm = Normalizer(norm='max').fit_transform(X)"
      ],
      "execution_count": null,
      "outputs": []
    },
    {
      "cell_type": "code",
      "metadata": {
        "colab": {
          "base_uri": "https://localhost:8080/"
        },
        "id": "a_jYq5XVpuUP",
        "outputId": "832d6c72-7988-4abb-c964-322b34c921db"
      },
      "source": [
        "X_norm"
      ],
      "execution_count": null,
      "outputs": [
        {
          "output_type": "execute_result",
          "data": {
            "text/plain": [
              "array([[0.6       , 0.8       , 1.        ],\n",
              "       [0.8       , 1.        , 0.4       ],\n",
              "       [1.        , 0.4       , 0.3       ],\n",
              "       [0.33333333, 0.25      , 1.        ],\n",
              "       [0.21428571, 0.85714286, 1.        ],\n",
              "       [0.85714286, 1.        , 0.71428571]])"
            ]
          },
          "metadata": {},
          "execution_count": 164
        }
      ]
    },
    {
      "cell_type": "code",
      "metadata": {
        "colab": {
          "base_uri": "https://localhost:8080/"
        },
        "id": "M_-swp5_qoGp",
        "outputId": "ab013ec9-8800-43c8-bc42-6abfdcc525a7"
      },
      "source": [
        "array(y)"
      ],
      "execution_count": null,
      "outputs": [
        {
          "output_type": "execute_result",
          "data": {
            "text/plain": [
              "array([20, 15, 60, 70, 50, 40])"
            ]
          },
          "metadata": {},
          "execution_count": 165
        }
      ]
    },
    {
      "cell_type": "code",
      "metadata": {
        "colab": {
          "base_uri": "https://localhost:8080/"
        },
        "id": "CVbAq5TOoliW",
        "outputId": "937ffa0b-387f-42ce-f376-b692978d34fe"
      },
      "source": [
        "np.reshape(array(y),(1,-1))"
      ],
      "execution_count": null,
      "outputs": [
        {
          "output_type": "execute_result",
          "data": {
            "text/plain": [
              "array([[20, 15, 60, 70, 50, 40]])"
            ]
          },
          "metadata": {},
          "execution_count": 166
        }
      ]
    },
    {
      "cell_type": "code",
      "metadata": {
        "id": "bFXf3klxocdV"
      },
      "source": [
        "y_norm=Normalizer(norm='max').fit_transform(np.reshape(array(y),(1,-1)))"
      ],
      "execution_count": null,
      "outputs": []
    },
    {
      "cell_type": "code",
      "metadata": {
        "colab": {
          "base_uri": "https://localhost:8080/"
        },
        "id": "4XkfInJvp1Kz",
        "outputId": "b13e78c9-0159-4f9c-8451-8cddd90d036a"
      },
      "source": [
        "y_norm"
      ],
      "execution_count": null,
      "outputs": [
        {
          "output_type": "execute_result",
          "data": {
            "text/plain": [
              "array([[0.28571429, 0.21428571, 0.85714286, 1.        , 0.71428571,\n",
              "        0.57142857]])"
            ]
          },
          "metadata": {},
          "execution_count": 168
        }
      ]
    },
    {
      "cell_type": "markdown",
      "metadata": {
        "id": "JXt48Cser87U"
      },
      "source": [
        "ANN From Scratch"
      ]
    },
    {
      "cell_type": "code",
      "metadata": {
        "id": "RWc-M8jJibR5"
      },
      "source": [
        ""
      ],
      "execution_count": null,
      "outputs": []
    },
    {
      "cell_type": "code",
      "metadata": {
        "id": "6ZhtPDirsE04"
      },
      "source": [
        "weight_1=array([[.2,.1],[.3,.1],[.2,.1]])\n",
        "weight_2=array([[.5],[.1]])"
      ],
      "execution_count": null,
      "outputs": []
    },
    {
      "cell_type": "code",
      "metadata": {
        "id": "-ZGzAb6eyJv8"
      },
      "source": [
        "# weight_1=uniform(-1,1,(3,2)) #shape 3 by 2\n",
        "# weight_2=uniform(-1,1,(2,1))"
      ],
      "execution_count": null,
      "outputs": []
    },
    {
      "cell_type": "code",
      "metadata": {
        "colab": {
          "base_uri": "https://localhost:8080/"
        },
        "id": "ZFZBCdKFzrIf",
        "outputId": "a5b3be73-0867-469b-80e4-e7dda13960eb"
      },
      "source": [
        "weight_1"
      ],
      "execution_count": null,
      "outputs": [
        {
          "output_type": "execute_result",
          "data": {
            "text/plain": [
              "array([[0.2, 0.1],\n",
              "       [0.3, 0.1],\n",
              "       [0.2, 0.1]])"
            ]
          },
          "metadata": {},
          "execution_count": 171
        }
      ]
    },
    {
      "cell_type": "code",
      "metadata": {
        "colab": {
          "base_uri": "https://localhost:8080/"
        },
        "id": "HXF00PAmb_pq",
        "outputId": "df81197e-d9ba-406f-95ea-69404e484ad5"
      },
      "source": [
        "weight_2"
      ],
      "execution_count": null,
      "outputs": [
        {
          "output_type": "execute_result",
          "data": {
            "text/plain": [
              "array([[0.5],\n",
              "       [0.1]])"
            ]
          },
          "metadata": {},
          "execution_count": 172
        }
      ]
    },
    {
      "cell_type": "code",
      "metadata": {
        "colab": {
          "base_uri": "https://localhost:8080/"
        },
        "id": "uvAk9U3b0Lfo",
        "outputId": "d24f68ee-5d69-4142-a6e0-df7acf7760ad"
      },
      "source": [
        "X_norm[0:batch_size]"
      ],
      "execution_count": null,
      "outputs": [
        {
          "output_type": "execute_result",
          "data": {
            "text/plain": [
              "array([[0.6, 0.8, 1. ],\n",
              "       [0.8, 1. , 0.4]])"
            ]
          },
          "metadata": {},
          "execution_count": 173
        }
      ]
    },
    {
      "cell_type": "code",
      "metadata": {
        "colab": {
          "base_uri": "https://localhost:8080/"
        },
        "id": "p8hw1c_DvKZN",
        "outputId": "b6ed41c1-3ee5-46e4-beaa-4373fef64a36"
      },
      "source": [
        "output_1=X_norm[0:batch_size]@weight_1\n",
        "output_1"
      ],
      "execution_count": null,
      "outputs": [
        {
          "output_type": "execute_result",
          "data": {
            "text/plain": [
              "array([[0.56, 0.24],\n",
              "       [0.54, 0.22]])"
            ]
          },
          "metadata": {},
          "execution_count": 174
        }
      ]
    },
    {
      "cell_type": "code",
      "metadata": {
        "colab": {
          "base_uri": "https://localhost:8080/"
        },
        "id": "wsWkJ_NawIAc",
        "outputId": "db9fcd31-cc8e-4a3b-81c8-7826cf818dc3"
      },
      "source": [
        "act_output=sigmoid(output_1).numpy()\n",
        "act_output"
      ],
      "execution_count": null,
      "outputs": [
        {
          "output_type": "execute_result",
          "data": {
            "text/plain": [
              "array([[0.63645254, 0.55971365],\n",
              "       [0.63181242, 0.55477924]])"
            ]
          },
          "metadata": {},
          "execution_count": 175
        }
      ]
    },
    {
      "cell_type": "code",
      "metadata": {
        "id": "0jR_FUWwwc2F",
        "colab": {
          "base_uri": "https://localhost:8080/"
        },
        "outputId": "5d38e759-59e1-4d45-fd70-dd820edaf0f9"
      },
      "source": [
        "pred_output=act_output@weight_2\n",
        "pred_output=np.reshape(pred_output,(1,-1))\n",
        "pred_output"
      ],
      "execution_count": null,
      "outputs": [
        {
          "output_type": "execute_result",
          "data": {
            "text/plain": [
              "array([[0.37419764, 0.37138413]])"
            ]
          },
          "metadata": {},
          "execution_count": 176
        }
      ]
    },
    {
      "cell_type": "markdown",
      "metadata": {
        "id": "EPUW_VKXw-KG"
      },
      "source": [
        "Mean Squared Error"
      ]
    },
    {
      "cell_type": "code",
      "metadata": {
        "id": "y12G94bmxggB"
      },
      "source": [
        "y_true=y_norm[0][0:batch_size]\n",
        "y_pred=pred_output\n"
      ],
      "execution_count": null,
      "outputs": []
    },
    {
      "cell_type": "code",
      "metadata": {
        "colab": {
          "base_uri": "https://localhost:8080/"
        },
        "id": "AD8y0mAoxtME",
        "outputId": "70d79eb1-460d-4350-cdaf-e69e30f7a571"
      },
      "source": [
        "y_true"
      ],
      "execution_count": null,
      "outputs": [
        {
          "output_type": "execute_result",
          "data": {
            "text/plain": [
              "array([0.28571429, 0.21428571])"
            ]
          },
          "metadata": {},
          "execution_count": 178
        }
      ]
    },
    {
      "cell_type": "code",
      "metadata": {
        "id": "GV5-3DdrxEer"
      },
      "source": [
        "error_k=mse(y_true,y_pred).numpy()"
      ],
      "execution_count": null,
      "outputs": []
    },
    {
      "cell_type": "code",
      "metadata": {
        "id": "wPJLiKTqUrmd"
      },
      "source": [
        "error_j=error*(weight_2*(act_output[0][0]*(1-act_output[0][0])))\n",
        "error_j=np.reshape(error_j,(1,2))\n",
        "\n",
        "\n",
        "\n"
      ],
      "execution_count": null,
      "outputs": []
    },
    {
      "cell_type": "code",
      "metadata": {
        "id": "sWjoa-COg4BS"
      },
      "source": [
        "\n"
      ],
      "execution_count": null,
      "outputs": []
    },
    {
      "cell_type": "code",
      "metadata": {
        "colab": {
          "base_uri": "https://localhost:8080/"
        },
        "id": "WpQk88KwhdGO",
        "outputId": "05dcfaf3-19d5-41dc-bd01-76508d07c57d"
      },
      "source": [
        "weight2_n=weight_2+0.003*error_k*y_true\n",
        "weight2_n\n",
        "weight1_n=weight_2+0.003*error_j*act_output\n",
        "weight1_n"
      ],
      "execution_count": null,
      "outputs": [
        {
          "output_type": "execute_result",
          "data": {
            "text/plain": [
              "array([[0.50000359, 0.50000063],\n",
              "       [0.10000356, 0.10000063]])"
            ]
          },
          "metadata": {},
          "execution_count": 181
        }
      ]
    }
  ]
}